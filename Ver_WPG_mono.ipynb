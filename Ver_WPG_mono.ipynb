{
 "cells": [
  {
   "cell_type": "code",
   "execution_count": 17,
   "metadata": {},
   "outputs": [
    {
     "name": "stdout",
     "output_type": "stream",
     "text": [
      "The autoreload extension is already loaded. To reload it, use:\n",
      "  %reload_ext autoreload\n"
     ]
    }
   ],
   "source": [
    "from __future__ import absolute_import\n",
    "from __future__ import division\n",
    "from __future__ import print_function\n",
    "from __future__ import unicode_literals\n",
    "\n",
    "%matplotlib inline\n",
    "import sys\n",
    "sys.path.insert(0,r\"C:\\Users\\nanw0\\GoogleDrive\\SLAC\\SLAC-Diling\\8. 20 Winter\\Beam_propagation\\WPG\\WPG-develop\")\n",
    "\n",
    "%load_ext autoreload"
   ]
  },
  {
   "cell_type": "code",
   "execution_count": 18,
   "metadata": {},
   "outputs": [],
   "source": [
    "#Importing necessary modules:\n",
    "import os\n",
    "import sys\n",
    "import copy\n",
    "\n",
    "sys.path.insert(0,os.path.join('..','..'))\n",
    "#sys.path.insert('../..')\n",
    "\n",
    "import time\n",
    "import numpy as np\n",
    "import pylab as plt\n",
    "\n",
    "# import auxiliar functions\n",
    "%autoreload 2\n",
    "from Auxiliary import *"
   ]
  },
  {
   "cell_type": "code",
   "execution_count": 19,
   "metadata": {},
   "outputs": [],
   "source": [
    "''' crystal variables  '''\n",
    "crystal_type='220'\n",
    "ang_as = np.deg2rad(2)           # asymmetric angle\n",
    "\n",
    "if crystal_type == '111':\n",
    "    ''' Silicon 111 crystal '''\n",
    "    d_sp = 3.13557135638         # reflecting plane d-spacing [A]\n",
    "    psi0r = -9.964087683e-6      # real part of 0th Fourier component of crystal polarizability\n",
    "    psi0i = 1.554410972e-7       # imaginary part of \"\"\n",
    "    psi_hr = -5.264819463e-6     # real part of Hth Fourier component\n",
    "    psi_hi = 1.085248779e-7      # imaginary part of \"\"\n",
    "    psi_hbr = -5.264819463e-6    # real part of -Hth Fourier coumponent\n",
    "    psi_hbi = 1.085248779e-7     # imaginary part of \"\"\n",
    "    \n",
    "if crystal_type == '220':\n",
    "    ''' Silicon 220 crystal '''\n",
    "    d_sp = 1.9201374688016222    # reflecting plane d-spacing [A]\n",
    "    psi0r = -9.964087683e-6      # real part of 0th Fourier component of crystal polarizability\n",
    "    psi0i = 1.554410972e-7       # imaginary part of \"\"\n",
    "    psi_hr = -6.054689535e-6     # real part of Hth Fourier component\n",
    "    psi_hi = 1.502594247e-7      # imaginary part of \"\"\n",
    "    psi_hbr = -6.054689535e-6    # real part of -Hth Fourier coumponent\n",
    "    psi_hbi = 1.502594247e-7     # imaginary part of \"\"\n",
    "    \n",
    "\n",
    "    \n",
    "tc = 150e-6                       # crystal thickness\n",
    "uc = 1                            # use case: 1 (Bragg reflection); 2 (Bragg transmission)\n",
    "ang_dif_pl = np.pi/2                 # diffraction plane angle: 0 (vertical); pi/2 (horizontal)\n",
    "Temp_Crystal = SRWLOptCryst(d_sp,psi0r,psi0i,psi_hr,psi_hi,psi_hbr,psi_hbi,tc,ang_as,_uc=uc)\n",
    "\n",
    "''' incident beam variables '''\n",
    "ekev = 9.9                  # photon energy [kev]\n",
    "pulse_duration = 3e-15    # pulse duration (rms) [s]\n",
    "z1 = 400                  # distance to first OE [m]\n",
    "sigX = 50e-6/(2*np.sqrt(2*np.log(2)))  # w0 (rms) [m]\n",
    "npoints = 256               # wavefront sampling dimension\n",
    "if_load_input = 0           # load (1) or generate (0) incident wavefront\n",
    "\n",
    "# default values\n",
    "qnC = 0.1                   # charge [nC]\n",
    "pulseEnergy = 0.5e-3        # pulse energy [J]\n",
    "dt = 1e-15                # time sampling resolution\n",
    "\n",
    "hbar = 6.582119569e-16\n",
    "\n",
    "# input dimensions\n",
    "npointsx = npoints                # number of points vs horizontal position\n",
    "npointsy = npoints          # \"\"\"\"\"\"\"\"\"\"\"\"\"\"\"\"\"\"  vertical position"
   ]
  },
  {
   "cell_type": "markdown",
   "metadata": {},
   "source": [
    "# Calculate sampling paremeters"
   ]
  },
  {
   "cell_type": "code",
   "execution_count": 20,
   "metadata": {},
   "outputs": [
    {
     "name": "stdout",
     "output_type": "stream",
     "text": [
      "4000.0\n",
      "beam parameters:\n",
      "    9.9keV, 3.0fs, 21.23um w0, 1.88urad divergence\n",
      "sampling parameters:\n",
      "    1.0fs dt, 1.03meV deV, 4000 nz, 1333.33 pulseRange\n",
      "other parameters:\n",
      "    Bragg angle 19.03deg, stretched pulse length 4000.0fs\n"
     ]
    }
   ],
   "source": [
    "''' calculations '''\n",
    "wl0 = E2L(ekev*1e3)                 # wavelength\n",
    "k0 = 2*np.pi/wl0                    # wavenumber\n",
    "divergence = wl0/np.pi/sigX         # paraxial beam divergence (rms)\n",
    "range_xy = 2000e-6    # spatial sampling range\n",
    "\n",
    "nvx0, nvy0, nvz0 = Temp_Crystal.find_orient(ekev*1e3,0)[0][2]\n",
    "thetaB0 = np.arctan(-nvz0/nvy0)+ang_as\n",
    "\n",
    "trange = calc_stretching(thetaB0, ang_as, range_xy)    # stretched pulse duration\n",
    "trange = 4000e-15\n",
    "print(trange*1e15)\n",
    "pulseRange = trange/pulse_duration\n",
    "\n",
    "if pulseRange < 400:\n",
    "    pulseRange = 400\n",
    "    trange = pulse_duration * pulseRange\n",
    "\n",
    "if trange < 300e-15:\n",
    "    trange = 300e-15\n",
    "    pulseRange = trange/pulse_duration\n",
    "\n",
    "dev = 1/trange * 2*np.pi * hbar     # photon energy sampling resolution\n",
    "nz = int(trange/dt)                 # number of photon energy slices\n",
    "if nz % 2!=0:\n",
    "    nz += 1\n",
    "    \n",
    "''' diffraction limit and focal spot Rayleigh range '''\n",
    "#thetamax = 2*np.arctan(divergence/2*z1*3/f_lens)\n",
    "#dlim = wl0/2/n/np.sin(thetamax)     # diffraction limit\n",
    "#zR = 1/2 * k0 * dlim**2             # focal spot Rayleigh range\n",
    "\n",
    "print('beam parameters:\\n    {}keV, {}fs, {}um w0, {}urad divergence'.format(\n",
    "    ekev, round(pulse_duration*1e15,2), round(sigX*1e6,2), round(divergence*1e6,2)))\n",
    "print('sampling parameters:\\n    {}fs dt, {}meV deV, {} nz, {} pulseRange'.format(\n",
    "    round(dt*1e15,2), round(dev*1e3,2), nz, round(pulseRange,2)))\n",
    "print('other parameters:\\n    Bragg angle {}deg, stretched pulse length {}fs'.format(\n",
    "    round(np.rad2deg(thetaB0),2),round(trange*1e15,2)))\n",
    "#print('diffraction limit {}um, Rayleigh range {}mm, Fresnel distance {}um'.format(\n",
    "#    round(dlim*1e6,2), round(zR*1e3,2), round((3e8*0.1e-15)**2/wl0*1e6,2)))\n"
   ]
  },
  {
   "cell_type": "code",
   "execution_count": 21,
   "metadata": {},
   "outputs": [
    {
     "name": "stdout",
     "output_type": "stream",
     "text": [
      "path exists\n",
      "path exists\n",
      "path exists\n",
      "path exists\n",
      "path exists\n"
     ]
    }
   ],
   "source": [
    "''' directories '''\n",
    "# output data directory\n",
    "strDataFolderName = 'WPG_output/' \n",
    "mkdir(strDataFolderName)\n",
    "\n",
    "# sub-folder for current sampling condition\n",
    "dirname_case = strDataFolderName+'ray_tracing/'\n",
    "mkdir(dirname_case)\n",
    "    \n",
    "# sub-sub-folder for current sampling parameters\n",
    "dirname_duration = dirname_case+'{} fs/'.format(\n",
    "    round(pulse_duration*1e15,1))\n",
    "mkdir(dirname_duration)\n",
    "\n",
    "# incident beam\n",
    "dirname_input = dirname_duration+'incident_beam/'\n",
    "mkdir(dirname_input)\n",
    "\n",
    "# propagated beam, mono\n",
    "dirname_mono = dirname_duration+'mono/'\n",
    "mkdir(dirname_mono)\n"
   ]
  },
  {
   "cell_type": "code",
   "execution_count": null,
   "metadata": {},
   "outputs": [
    {
     "name": "stdout",
     "output_type": "stream",
     "text": [
      "generating incident wavefront\n"
     ]
    }
   ],
   "source": [
    "name0 = 'input'\n",
    "fname_incident = dirname_input + 'wf_{}.h5'.format(name0)\n",
    "\n",
    "''' load or generate '''\n",
    "tstart = time.time()\n",
    "if if_load_input ==1:\n",
    "    print('loading incident wavefront')\n",
    "    mwf = Wavefront()\n",
    "    try:\n",
    "        mwf.load_hdf5(fname_incident)\n",
    "    except:\n",
    "        if_load_input = 0\n",
    "        print(\"incident wavefront doesn't exist\")\n",
    "\n",
    "if if_load_input != 1:\n",
    "    print('generating incident wavefront')\n",
    "    wfr0 = build_gauss_wavefront(npointsx, npointsy, nz, ekev, -range_xy/2, range_xy/2,\n",
    "                                    -range_xy/2, range_xy/2 ,pulse_duration, sigX, sigX, z1,\n",
    "                                    pulseEn=pulseEnergy,pulseRange=pulseRange)\n",
    "\n",
    "    mwf = Wavefront(wfr0)\n",
    "    srwl.SetRepresElecField(mwf._srwl_wf, 'f')\n",
    "    print('saving incident wavefront'.format(round(time.time()-tstart,2)))\n",
    "    mwf.store_hdf5(fname_incident)\n",
    "print('finished in {}s'.format(round(time.time()-tstart,2)))\n"
   ]
  },
  {
   "cell_type": "code",
   "execution_count": null,
   "metadata": {},
   "outputs": [],
   "source": [
    "''' transverse intensity profile '''\n",
    "# spatial profile\n",
    "fig = plt.figure(figsize=(6,6))\n",
    "ax1 = fig.add_subplot(111)\n",
    "\n",
    "if min([npointsx, npointsy])>=4:\n",
    "    plot_spatial_from_wf(mwf,'incident')\n",
    "    ax1.set_aspect('equal')\n",
    "    plt.title('Incident beam', fontsize=18)\n",
    "else:\n",
    "    plot_lineout_from_wf(mwf, 'C1',label='incident beam', if_log=0)\n",
    "    plt.title('Beam intensity lineout')\n",
    "    \n",
    "print('done')\n",
    "plt.savefig(dirname_input+'profile_{}.png'.format(name0),transparent=True)\n",
    "\n",
    "''' spectrum '''\n",
    "plt.figure(figsize=(6,6))\n",
    "aw, evI, intIs = get_spectra(mwf)\n",
    "eRange = evI.max()-evI.min()\n",
    "eMin = evI[aw.min()]-eRange/20\n",
    "eMax = evI.max()-(eMin-evI.min())\n",
    "\n",
    "plot_spectra(aw, evI, intIs,'C1', label='incident beam')\n",
    "plt.xlim([eMin, eMax])\n",
    "plt.savefig(dirname_input+'spectrum_{}.png'.format(name0), transparent=True)\n",
    "\n",
    "eStart = mwf._srwl_wf.mesh.eStart\n",
    "eFin = mwf._srwl_wf.mesh.eFin\n"
   ]
  },
  {
   "cell_type": "markdown",
   "metadata": {},
   "source": [
    "# Define beamline optics"
   ]
  },
  {
   "cell_type": "code",
   "execution_count": null,
   "metadata": {},
   "outputs": [],
   "source": [
    "from WPG_Optics import *\n",
    "''' beamline crystals '''\n",
    "ang_as0 = 0                 # asymmetry angle of the first crystal\n",
    "ang_as1 = -ang_as           # \"\"\"\"\"\"\"\"\"\"\"\"\"\"\"\"\"\"\"\"\"\" second crystal\n",
    "ang_as2 = ang_as            # \"\"\"\"\"\"\"\"\"\"\"\"\"\"\"\"\"\"\"\"\"\" third crystal\n",
    "ang_as3 = 0                 # \"\"\"\"\"\"\"\"\"\"\"\"\"\"\"\"\"\"\"\"\"\" 4th crystal\n",
    "\n",
    "C1_VCC = SRWLOptCryst(d_sp,psi0r,psi0i,psi_hr,psi_hi,psi_hbr,psi_hbi,tc,ang_as0,_uc=uc)\n",
    "C2_VCC = SRWLOptCryst(d_sp,psi0r,psi0i,psi_hr,psi_hi,psi_hbr,psi_hbi,tc,ang_as1,_uc=uc)\n",
    "C3_VCC = SRWLOptCryst(d_sp,psi0r,psi0i,psi_hr,psi_hi,psi_hbr,psi_hbi,tc,ang_as2,_uc=uc)\n",
    "C4_VCC = SRWLOptCryst(d_sp,psi0r,psi0i,psi_hr,psi_hi,psi_hbr,psi_hbi,tc,ang_as3,_uc=uc)\n",
    "\n",
    "C1_CC = SRWLOptCryst(d_sp,psi0r,psi0i,psi_hr,psi_hi,psi_hbr,psi_hbi,tc,0,_uc=uc)\n",
    "C2_CC = SRWLOptCryst(d_sp,psi0r,psi0i,psi_hr,psi_hi,psi_hbr,psi_hbi,tc,0,_uc=uc)\n",
    "C3_CC = SRWLOptCryst(d_sp,psi0r,psi0i,psi_hr,psi_hi,psi_hbr,psi_hbi,tc,0,_uc=uc)\n",
    "C4_CC = SRWLOptCryst(d_sp,psi0r,psi0i,psi_hr,psi_hi,psi_hbr,psi_hbi,tc,0,_uc=uc)\n",
    "\n",
    "''' crystal orientation '''\n",
    "set_crystal_orient(C1_VCC, ekev*1e3, ang_dif_pl, flip=0)\n",
    "set_crystal_orient(C2_VCC, ekev*1e3, ang_dif_pl, flip=1)\n",
    "set_crystal_orient(C3_VCC, ekev*1e3, ang_dif_pl, flip=1)\n",
    "set_crystal_orient(C4_VCC, ekev*1e3, ang_dif_pl, flip=0)\n",
    "\n",
    "set_crystal_orient(C1_CC, ekev*1e3, ang_dif_pl, flip=1)\n",
    "set_crystal_orient(C2_CC, ekev*1e3, ang_dif_pl, flip=0)\n",
    "set_crystal_orient(C3_CC, ekev*1e3, ang_dif_pl, flip=0)\n",
    "set_crystal_orient(C4_CC, ekev*1e3, ang_dif_pl, flip=1)\n"
   ]
  },
  {
   "cell_type": "markdown",
   "metadata": {},
   "source": [
    "### Define beamline"
   ]
  },
  {
   "cell_type": "code",
   "execution_count": null,
   "metadata": {},
   "outputs": [],
   "source": [
    "''' drift between OE '''\n",
    "# VCC branch\n",
    "z_In_C1_VCC = 0.12\n",
    "z_C1_C2_VCC = 0.02\n",
    "z_C2_C3_VCC = 0.2\n",
    "z_C3_C4_VCC = 0.02\n",
    "z_C4_Im_VCC = z_In_C1_VCC\n",
    "\n",
    "D_In_VCC = SRWLOptD(z_In_C1_VCC)    # CC crystal 1 to VCC crystal 1 offset\n",
    "D_C1_VCC = SRWLOptD(z_C1_C2_VCC)    # C1 - C2\n",
    "D_C2_VCC = SRWLOptD(z_C2_C3_VCC)    # C2 - C3\n",
    "D_C3_VCC = SRWLOptD(z_C3_C4_VCC)    # C3 - C4\n",
    "D_C4_VCC = SRWLOptD(z_C4_Im_VCC)    # VCC crystal 4 to CC crystal 4 offset\n",
    "\n",
    "# CC branch\n",
    "z_C1_C2_CC = 0.02\n",
    "z_C2_C3_CC = z_C2_C3_VCC + z_In_C1_VCC*2\n",
    "z_C3_C4_CC = 0.02\n",
    "\n",
    "D_C1_CC = SRWLOptD(z_C1_C2_CC)    # C1 - C2\n",
    "D_C2_CC = SRWLOptD(z_C2_C3_CC)    # C2 - C3\n",
    "D_C3_CC = SRWLOptD(z_C3_C4_CC)    # C3 - C4\n",
    "\n",
    "''' propagation parameters '''\n",
    "#Wavefront Propagation Parameters:\n",
    "#[0]:  Auto-Resize (1) or not (0) Before propagation\n",
    "#[1]:  Auto-Resize (1) or not (0) After propagation\n",
    "#[2]:  Relative Precision for propagation with Auto-Resizing (1. is nominal)\n",
    "#[3]:  Allow (1) or not (0) for semi-analytical treatment of quadratic phase terms at propagation\n",
    "#[4]:  Do any Resizing on Fourier side, using FFT, (1) or not (0)\n",
    "#[5]:  Horizontal Range modification factor at Resizing (1. means no modification)\n",
    "#[6]:  Horizontal Resolution modification factor at Resizing\n",
    "#[7]:  Vertical Range modification factor at Resizing\n",
    "#[8]:  Vertical Resolution modification factor at Resizing\n",
    "#[9]:  Type of wavefront Shift before Resizing (not yet implemented)\n",
    "#[10]: New Horizontal wavefront Center position after Shift (not yet implemented)\n",
    "#[11]: New Vertical wavefront Center position after Shift (not yet implemented)\n",
    "#                [ 0] [1] [2]  [3] [4] [5]  [6]  [7]  [8]  [9] [10] [11]\n",
    "ppD_In_VCC =     [ 0,  0, 1.0,  1,  0, 1.0, 1.0, 1.0, 1.0,  0,  0,   0]\n",
    "ppC1_VCC =       [ 0,  0, 1.0,  1,  0, 1.0, 1.0, 1.0, 1.0,  0,  0,   0]\n",
    "ppD_C1_VCC =     [ 0,  0, 1.0,  1,  0, 1.0, 1.0, 1.0, 1.0,  0,  0,   0]\n",
    "ppC2_VCC =       [ 0,  0, 1.0,  1,  0, 1.0, 1.0, 1.0, 1.0,  0,  0,   0]\n",
    "ppD_C2_VCC =     [ 0,  0, 1.0,  1,  0, 1.0, 1.0, 1.0, 1.0,  0,  0,   0]\n",
    "\n",
    "ppC3_VCC =       [ 0,  0, 1.0,  1,  0, 1.0, 1.0, 1.0, 1.0,  0,  0,   0]\n",
    "ppD_C3_VCC =     [ 0,  0, 1.0,  1,  0, 1.0, 1.0, 1.0, 1.0,  0,  0,   0]\n",
    "ppC4_VCC =       [ 0,  0, 1.0,  1,  0, 1.0, 1.0, 1.0, 1.0,  0,  0,   0]\n",
    "ppD_C4_VCC =     [ 0,  0, 1.0,  1,  0, 1.0, 1.0, 1.0, 1.0,  0,  0,   0]\n",
    "\n",
    "ppC1_CC =        [ 0,  0, 1.0,  1,  0, 1.0, 1.0, 1.0, 1.0,  0,  0,   0]\n",
    "ppD_C1_CC =      [ 0,  0, 1.0,  1,  0, 1.0, 1.0, 1.0, 1.0,  0,  0,   0]\n",
    "ppC2_CC =        [ 0,  0, 1.0,  1,  0, 1.0, 1.0, 1.0, 1.0,  0,  0,   0]\n",
    "ppD_C2_CC =      [ 0,  0, 1.0,  1,  0, 1.0, 1.0, 1.0, 1.0,  0,  0,   0]\n",
    "\n",
    "ppC3_CC =        [ 0,  0, 1.0,  1,  0, 1.0, 1.0, 1.0, 1.0,  0,  0,   0]\n",
    "ppD_C3_CC =      [ 0,  0, 1.0,  1,  0, 1.0, 1.0, 1.0, 1.0,  0,  0,   0]\n",
    "ppC4_CC =        [ 0,  0, 1.0,  1,  0, 1.0, 1.0, 1.0, 1.0,  0,  0,   0]\n",
    "ppD_C4_CC =      [ 0,  0, 1.0,  1,  0, 1.0, 1.0, 1.0, 1.0,  0,  0,   0]\n",
    "\n",
    "''' beamlines '''\n",
    "# branch 1 (VCC)\n",
    "name1_VCC = 'VCC_2.mono'\n",
    "BL_VCC = SRWLOptC([D_In_VCC, C1_VCC, D_C1_VCC, C2_VCC, D_C2_VCC, C3_VCC, D_C3_VCC, C4_VCC, D_C4_VCC],\n",
    "               [ppD_In_VCC, ppC1_VCC, ppD_C1_VCC, ppC2_VCC, ppD_C2_VCC, ppC3_VCC, ppD_C3_VCC, ppC4_VCC, ppD_C4_VCC])\n",
    "\n",
    "# branch 2 (CC)\n",
    "name1_CC = 'CC_2.mono'\n",
    "BL_CC = SRWLOptC([C1_CC, D_C1_CC, C2_CC, D_C2_CC, C3_CC, D_C3_CC, C4_CC],\n",
    "               [ppC1_CC, ppD_C1_CC, ppC2_CC, ppD_C2_CC, ppC3_CC, ppD_C3_CC, ppC4_CC])\n",
    "\n",
    "print('done')"
   ]
  },
  {
   "cell_type": "code",
   "execution_count": null,
   "metadata": {
    "scrolled": false
   },
   "outputs": [],
   "source": [
    "''' propagation '''\n",
    "# branch 1 (VCC)\n",
    "startTime = time.time(); tstamp = time.time()\n",
    "print('\\n\\n*** through VCC, t = {}s'.format(round(time.time()-startTime,2)))\n",
    "fname_VCC1 = dirname_mono + 'wf_{}.h5'.format(name1_VCC)\n",
    "mwf_VCC1 = propagate_wavefront(fname_incident, BL_VCC, fname_VCC1)\n",
    "print('propagation lasted: {} min'.format(round((time.time() - startTime) / 6.) / 10.))\n",
    "\n",
    "# branch 2 (CC)\n",
    "startTime = time.time(); tstamp = time.time()\n",
    "print('\\n\\n*** through CC, t = {}s'.format(round(time.time()-startTime,2)))\n",
    "fname_CC1 = dirname_mono + 'wf_{}.h5'.format(name1_CC)\n",
    "mwf_CC1 = propagate_wavefront(fname_incident, BL_CC, fname_CC1)\n",
    "print('propagation lasted: {} min'.format(round((time.time() - startTime) / 6.) / 10.))\n"
   ]
  },
  {
   "cell_type": "code",
   "execution_count": null,
   "metadata": {
    "scrolled": true
   },
   "outputs": [],
   "source": [
    "# check dimensions\n",
    "print('input',np.asarray(mwf.get_limits())*1e6)\n",
    "print('VCC',np.asarray(mwf_VCC1.get_limits())*1e6)\n",
    "print('CC',np.asarray(mwf_CC1.get_limits())*1e6)"
   ]
  },
  {
   "cell_type": "markdown",
   "metadata": {},
   "source": [
    "# Plots"
   ]
  },
  {
   "cell_type": "code",
   "execution_count": null,
   "metadata": {},
   "outputs": [],
   "source": [
    "''' profile '''\n",
    "if_log = 0\n",
    "fov = 2000\n",
    "fig = plt.figure(figsize=(8,6))\n",
    "ax1 = fig.add_subplot(111)\n",
    "plot_spatial_from_wf(mwf_VCC1, label=name1_VCC, if_log=if_log)\n",
    "plt.xlim([-fov/2,fov/2]); plt.ylim([-fov/2,fov/2])\n",
    "ax1.set_aspect('equal')\n",
    "plt.savefig(dirname_mono+'profile_{}.png'.format(name1_VCC),transparent=True)\n",
    "\n",
    "fig = plt.figure(figsize=(8,6))\n",
    "ax1 = fig.add_subplot(111)\n",
    "plot_spatial_from_wf(mwf_CC1, label=name1_CC, if_log=if_log)\n",
    "plt.xlim([-fov/2,fov/2]); plt.ylim([-fov/2,fov/2])\n",
    "ax1.set_aspect('equal')\n",
    "plt.savefig(dirname_mono+'profile_{}.png'.format(name1_CC),transparent=True)\n"
   ]
  },
  {
   "cell_type": "code",
   "execution_count": null,
   "metadata": {
    "scrolled": false
   },
   "outputs": [],
   "source": [
    "''' tilt and spectrum '''\n",
    "if_log = 1\n",
    "fov_y = 2000      # um\n",
    "fov_t = trange*1e15    # fs\n",
    "\n",
    "for dim in ['x','y']:\n",
    "    if dim == 'y': ori = 'V'\n",
    "    else: ori = 'H'\n",
    "\n",
    "    plt.figure(figsize=(8,6))\n",
    "    plot_tilt_from_wf(mwf,label=name0,if_log=0, ori=ori)\n",
    "    plt.xlim([-fov_t/2,fov_t/2]); plt.ylim([-fov_y/2,fov_y/2])\n",
    "    plt.savefig(dirname_input+'tilt_{}_{}.png'.format(dim,name0),transparent=True)\n",
    "\n",
    "    plt.figure(figsize=(8,6))\n",
    "    plot_tilt_from_wf(mwf_VCC1,label=name1_VCC,if_log=if_log, ori=ori)\n",
    "    plt.xlim([-fov_t/2,fov_t/2]); plt.ylim([-fov_y/2,fov_y/2])\n",
    "    plt.savefig(dirname_mono+'tilt_{}_{}.png'.format(dim,name1_VCC),transparent=True)\n",
    "\n",
    "    plt.figure(figsize=(8,6))\n",
    "    plot_tilt_from_wf(mwf_CC1,label=name1_CC,if_log=if_log, ori=ori)\n",
    "    plt.xlim([-fov_t/2,fov_t/2]); plt.ylim([-fov_y/2,fov_y/2])\n",
    "    plt.savefig(dirname_mono+'tilt_{}_{}.png'.format(dim,name1_CC),transparent=True)\n",
    "    \n",
    "    plt.figure(figsize=(8,6))\n",
    "    plot_tilt_freq_from_wf(mwf_VCC1,label=name1_VCC,if_log=0, ori=ori)\n",
    "    plt.xlim([eStart, eFin]); plt.ylim([-fov_y/2,fov_y/2])\n",
    "    plt.savefig(dirname_mono+'spectrum_{}_{}.png'.format(dim,name1_CC),transparent=True)\n",
    "    \n",
    "    plt.figure(figsize=(8,6))\n",
    "    plot_tilt_freq_from_wf(mwf_CC1,label=name1_CC,if_log=0, ori=ori)\n",
    "    plt.xlim([eStart, eFin]); plt.ylim([-fov_y/2,fov_y/2])\n",
    "    plt.savefig(dirname_mono+'spectrum_{}_{}.png'.format(dim,name1_CC),transparent=True)\n"
   ]
  },
  {
   "cell_type": "code",
   "execution_count": null,
   "metadata": {},
   "outputs": [],
   "source": [
    "''' spectrum '''\n",
    "aw_VCC, axis_VCC, int_VCC = get_spectra(mwf_VCC1)\n",
    "aw_CC, axis_CC, int_CC = get_spectra(mwf_CC1)\n",
    "\n",
    "plt.figure(figsize=(8,6))\n",
    "plot_spectra(aw_VCC, axis_VCC, int_VCC, 'b', label=name1_VCC)\n",
    "plot_spectra(aw_VCC, axis_VCC, int_VCC, 'r', label=name1_CC)\n",
    "\n",
    "plt.savefig(dirname_mono+'spectrum_all.png',transparent=True)\n"
   ]
  },
  {
   "cell_type": "markdown",
   "metadata": {},
   "source": [
    "### Compress save"
   ]
  },
  {
   "cell_type": "code",
   "execution_count": null,
   "metadata": {},
   "outputs": [],
   "source": [
    "fname_incident = dirname_input+'{}_compressed.h5'.format(name0)\n",
    "\n",
    "''' incident '''\n",
    "for filename in os.listdir(dirname_input):\n",
    "    if filename.endswith('.h5'):\n",
    "        if not filename.endswith('compressed.h5'):\n",
    "            os.remove(dirname_input+filename)\n",
    "compress_save(mwf, fname_incident)\n"
   ]
  },
  {
   "cell_type": "code",
   "execution_count": null,
   "metadata": {},
   "outputs": [],
   "source": [
    "import winsound\n",
    "winsound.PlaySound(\"*\", winsound.SND_ALIAS)\n",
    "winsound.PlaySound(\"*\", winsound.SND_ALIAS)\n",
    "winsound.PlaySound(\"*\", winsound.SND_ALIAS)"
   ]
  }
 ],
 "metadata": {
  "kernelspec": {
   "display_name": "Python 3",
   "language": "python",
   "name": "python3"
  },
  "language_info": {
   "codemirror_mode": {
    "name": "ipython",
    "version": 3
   },
   "file_extension": ".py",
   "mimetype": "text/x-python",
   "name": "python",
   "nbconvert_exporter": "python",
   "pygments_lexer": "ipython3",
   "version": "3.6.10"
  }
 },
 "nbformat": 4,
 "nbformat_minor": 4
}
