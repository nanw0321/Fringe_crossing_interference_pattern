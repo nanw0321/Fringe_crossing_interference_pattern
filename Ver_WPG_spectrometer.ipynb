{
 "cells": [
  {
   "cell_type": "code",
   "execution_count": 1,
   "metadata": {},
   "outputs": [],
   "source": [
    "from __future__ import absolute_import\n",
    "from __future__ import division\n",
    "from __future__ import print_function\n",
    "from __future__ import unicode_literals\n",
    "\n",
    "%matplotlib inline\n",
    "import sys\n",
    "sys.path.insert(0,r\"C:\\Users\\nanw0\\GoogleDrive\\SLAC\\SLAC-Diling\\8. 20 Winter\\Beam_propagation\\WPG\\WPG-develop\")\n",
    "\n",
    "%load_ext autoreload"
   ]
  },
  {
   "cell_type": "code",
   "execution_count": 2,
   "metadata": {},
   "outputs": [],
   "source": [
    "#Importing necessary modules:\n",
    "import os\n",
    "import sys\n",
    "import copy\n",
    "\n",
    "sys.path.insert(0,os.path.join('..','..'))\n",
    "#sys.path.insert('../..')\n",
    "\n",
    "import time\n",
    "import numpy as np\n",
    "import pylab as plt\n",
    "\n",
    "# import auxiliar functions\n",
    "%autoreload 2\n",
    "from Auxiliary import *"
   ]
  },
  {
   "cell_type": "code",
   "execution_count": 3,
   "metadata": {},
   "outputs": [],
   "source": [
    "''' crystal variables  '''\n",
    "crystal_type='111'\n",
    "ang_as = np.deg2rad(-5)           # asymmetric angle\n",
    "\n",
    "if crystal_type == '111':\n",
    "    ''' Silicon 111 crystal '''\n",
    "    d_sp = 3.13557135638         # reflecting plane d-spacing [A]\n",
    "    psi0r = -9.964087683e-6      # real part of 0th Fourier component of crystal polarizability\n",
    "    psi0i = 1.554410972e-7       # imaginary part of \"\"\n",
    "    psi_hr = -5.264819463e-6     # real part of Hth Fourier component\n",
    "    psi_hi = 1.085248779e-7      # imaginary part of \"\"\n",
    "    psi_hbr = -5.264819463e-6    # real part of -Hth Fourier coumponent\n",
    "    psi_hbi = 1.085248779e-7     # imaginary part of \"\"\n",
    "    \n",
    "tc = 150e-6                       # crystal thickness\n",
    "uc = 1                            # use case: 1 (Bragg reflection); 2 (Bragg transmission)\n",
    "ang_dif_pl = 0                    # diffraction plane angle: 0 (vertical); pi/2 (horizontal)\n",
    "Temp_Crystal = SRWLOptCryst(d_sp,psi0r,psi0i,psi_hr,psi_hi,psi_hbr,psi_hbi,tc,ang_as,_uc=uc)\n"
   ]
  },
  {
   "cell_type": "code",
   "execution_count": 4,
   "metadata": {},
   "outputs": [],
   "source": [
    "''' incident beam variables '''\n",
    "ekev = 9.9                  # photon energy [kev]\n",
    "pulse_duration = 3e-15    # pulse duration (rms) [s]\n",
    "trange = 2000e-15\n",
    "fov_y = 5000"
   ]
  },
  {
   "cell_type": "code",
   "execution_count": 5,
   "metadata": {},
   "outputs": [
    {
     "name": "stdout",
     "output_type": "stream",
     "text": [
      "path exists\n",
      "path exists\n",
      "path exists\n",
      "path exists\n",
      "path exists\n",
      "path exists\n"
     ]
    }
   ],
   "source": [
    "''' directories '''\n",
    "# output data directory\n",
    "strDataFolderName = 'WPG_output/' \n",
    "mkdir(strDataFolderName)\n",
    "\n",
    "# sub-folder for current sampling condition\n",
    "dirname_case = strDataFolderName+'ray_tracing/'\n",
    "mkdir(dirname_case)\n",
    "    \n",
    "# sub-sub-folder for current sampling parameters\n",
    "dirname_duration = dirname_case+'{} fs/'.format(\n",
    "    round(pulse_duration*1e15,1))\n",
    "mkdir(dirname_duration)\n",
    "\n",
    "# incident beam\n",
    "dirname_input = dirname_duration+'incident_beam/'\n",
    "mkdir(dirname_input)\n",
    "\n",
    "# propagated beam, mono\n",
    "dirname_mono = dirname_duration+'mono/'\n",
    "mkdir(dirname_mono)\n",
    "\n",
    "# propagated beam, spectrometer\n",
    "dirname_spectrometer = dirname_duration+'spectrometer/'\n",
    "mkdir(dirname_spectrometer)\n"
   ]
  },
  {
   "cell_type": "markdown",
   "metadata": {},
   "source": [
    "# Define beamline optics"
   ]
  },
  {
   "cell_type": "code",
   "execution_count": 6,
   "metadata": {},
   "outputs": [],
   "source": [
    "''' analyzer lens '''\n",
    "f_OE = 10.\n",
    "\n",
    "OE = SRWLOptL(_Fx=1e30, _Fy=f_OE, _x=0, _y=0)\n",
    "\n",
    "''' analyzer crystal '''\n",
    "C5 = SRWLOptCryst(d_sp,psi0r,psi0i,psi_hr,psi_hi,psi_hbr,psi_hbi,tc,ang_as,_uc=uc)\n",
    "set_crystal_orient(C5, ekev*1e3, ang_dif_pl, flip=0)\n"
   ]
  },
  {
   "cell_type": "markdown",
   "metadata": {},
   "source": [
    "### Define beamline"
   ]
  },
  {
   "cell_type": "code",
   "execution_count": 7,
   "metadata": {},
   "outputs": [
    {
     "name": "stdout",
     "output_type": "stream",
     "text": [
      "done\n"
     ]
    }
   ],
   "source": [
    "''' drift between OE '''\n",
    "z_C5_OE = .1\n",
    "z_OE_Im = f_OE\n",
    "\n",
    "D_C5_OE = SRWLOptD(z_C5_OE)\n",
    "D_OE_Im = SRWLOptD(z_OE_Im)\n",
    "\n",
    "''' propagation parameters '''\n",
    "#Wavefront Propagation Parameters:\n",
    "#[0]:  Auto-Resize (1) or not (0) Before propagation\n",
    "#[1]:  Auto-Resize (1) or not (0) After propagation\n",
    "#[2]:  Relative Precision for propagation with Auto-Resizing (1. is nominal)\n",
    "#[3]:  Allow (1) or not (0) for semi-analytical treatment of quadratic phase terms at propagation\n",
    "#[4]:  Do any Resizing on Fourier side, using FFT, (1) or not (0)\n",
    "#[5]:  Horizontal Range modification factor at Resizing (1. means no modification)\n",
    "#[6]:  Horizontal Resolution modification factor at Resizing\n",
    "#[7]:  Vertical Range modification factor at Resizing\n",
    "#[8]:  Vertical Resolution modification factor at Resizing\n",
    "#[9]:  Type of wavefront Shift before Resizing (not yet implemented)\n",
    "#[10]: New Horizontal wavefront Center position after Shift (not yet implemented)\n",
    "#[11]: New Vertical wavefront Center position after Shift (not yet implemented)\n",
    "#                [ 0] [1] [2]  [3] [4] [5]  [6]  [7]  [8]  [9] [10] [11]\n",
    "ppC5 =           [ 0,  0, 1.0,  1,  0, 1.0, 1.0, 1.0, 1.0,  0,  0,   0]\n",
    "ppD_C5_OE =      [ 0,  0, 1.0,  1,  0, 1.0, 1.0, 1.0, 1.0,  0,  0,   0]\n",
    "ppOE =           [ 0,  0, 1.0,  0,  0, 1.0, 1.0, 1.0, 1.0,  0,  0,   0]\n",
    "ppD_OE_Im =      [ 0,  0, 1.0,  0,  0, 1.0, 1.0, 1.0, 1.0,  0,  0,   0]\n",
    "\n",
    "''' beamline '''\n",
    "name2_VCC = 'VCC_3.crystal'\n",
    "name2_CC = 'CC_3.crystal'\n",
    "name3_VCC = 'VCC_4.lens'\n",
    "name3_CC = 'CC_4.lens'\n",
    "\n",
    "BL_Crystal = SRWLOptC([C5, D_C5_OE], [ppC5, ppD_C5_OE])\n",
    "BL_Lens = SRWLOptC([OE, D_OE_Im], [ppOE, ppD_OE_Im])\n",
    "\n",
    "print('done')"
   ]
  },
  {
   "cell_type": "code",
   "execution_count": 8,
   "metadata": {
    "scrolled": false
   },
   "outputs": [
    {
     "name": "stdout",
     "output_type": "stream",
     "text": [
      "\n",
      "\n",
      "*** through VCC, t = 0.0s\n",
      "Optical Element: Ideal Crystal\n",
      "Prop. parameters = [0, 0, 1.0, 1, 0, 1.0, 1.0, 1.0, 1.0, 0, 0, 0]\n",
      "\tangAs = 0.08726646259971647\n",
      "\taux_ang_dif_pl = 0\n",
      "\taux_energy = 9900.0\n",
      "\tdSp = 3.13557135638\n",
      "\tnvx = 0\n",
      "\tnvy = 0.9935280298512542\n",
      "\tnvz = -0.11358720834620997\n",
      "\tpsi0i = 1.554410972e-07\n",
      "\tpsi0r = -9.964087683e-06\n",
      "\tpsiHbi = 1.085248779e-07\n",
      "\tpsiHbr = -5.264819463e-06\n",
      "\tpsiHi = 1.085248779e-07\n",
      "\tpsiHr = -5.264819463e-06\n",
      "\ttc = 0.00015\n",
      "\ttvx = 0\n",
      "\ttvy = 0.11358720834620997\n",
      "\tuc = 1\n",
      "\t\n",
      "Optical Element: Drift Space\n",
      "Prop. parameters = [0, 0, 1.0, 1, 0, 1.0, 1.0, 1.0, 1.0, 0, 0, 0]\n",
      "\tL = 0.1\n",
      "\ttreat = 0\n",
      "\t\n",
      "Optical Element: Thin Lens\n",
      "Prop. parameters = [0, 0, 1.0, 0, 0, 1.0, 1.0, 1.0, 1.0, 0, 0, 0]\n",
      "\tFx = 1e+30\n",
      "\tFy = 10.0\n",
      "\tx = 0\n",
      "\ty = 0\n",
      "\t\n",
      "Optical Element: Drift Space\n",
      "Prop. parameters = [0, 0, 1.0, 0, 0, 1.0, 1.0, 1.0, 1.0, 0, 0, 0]\n",
      "\tL = 10.0\n",
      "\ttreat = 0\n",
      "\t\n",
      "\n",
      "*****reading wavefront from h5 file...\n",
      "R-space\n",
      "nx   256  range_x [-2.5e+00, 2.5e+00] mm\n",
      "ny   256  range_y [-2.5e+00, 2.5e+00] mm\n",
      "*****propagating wavefront (with resizing)...\n",
      "save hdf5: WPG_output/ray_tracing/3.0 fs/spectrometer/wf_VCC_3.spectrometer_crystal.h5\n",
      "done\n",
      "propagation lasted: 2.4 min\n",
      "\n",
      "\n",
      "*** through CC, t = 0.0s\n",
      "Optical Element: Ideal Crystal\n",
      "Prop. parameters = [0, 0, 1.0, 1, 0, 1.0, 1.0, 1.0, 1.0, 0, 0, 0]\n",
      "\tangAs = 0.08726646259971647\n",
      "\taux_ang_dif_pl = 0\n",
      "\taux_energy = 9900.0\n",
      "\tdSp = 3.13557135638\n",
      "\tnvx = 0\n",
      "\tnvy = 0.9935280298512542\n",
      "\tnvz = -0.11358720834620997\n",
      "\tpsi0i = 1.554410972e-07\n",
      "\tpsi0r = -9.964087683e-06\n",
      "\tpsiHbi = 1.085248779e-07\n",
      "\tpsiHbr = -5.264819463e-06\n",
      "\tpsiHi = 1.085248779e-07\n",
      "\tpsiHr = -5.264819463e-06\n",
      "\ttc = 0.00015\n",
      "\ttvx = 0\n",
      "\ttvy = 0.11358720834620997\n",
      "\tuc = 1\n",
      "\t\n",
      "Optical Element: Drift Space\n",
      "Prop. parameters = [0, 0, 1.0, 1, 0, 1.0, 1.0, 1.0, 1.0, 0, 0, 0]\n",
      "\tL = 0.1\n",
      "\ttreat = 0\n",
      "\t\n",
      "Optical Element: Thin Lens\n",
      "Prop. parameters = [0, 0, 1.0, 0, 0, 1.0, 1.0, 1.0, 1.0, 0, 0, 0]\n",
      "\tFx = 1e+30\n",
      "\tFy = 10.0\n",
      "\tx = 0\n",
      "\ty = 0\n",
      "\t\n",
      "Optical Element: Drift Space\n",
      "Prop. parameters = [0, 0, 1.0, 0, 0, 1.0, 1.0, 1.0, 1.0, 0, 0, 0]\n",
      "\tL = 10.0\n",
      "\ttreat = 0\n",
      "\t\n",
      "\n",
      "*****reading wavefront from h5 file...\n",
      "R-space\n",
      "nx   256  range_x [-2.5e+00, 2.5e+00] mm\n",
      "ny   256  range_y [-2.5e+00, 2.5e+00] mm\n",
      "*****propagating wavefront (with resizing)...\n",
      "save hdf5: WPG_output/ray_tracing/3.0 fs/spectrometer/wf_CC_3.spectrometer_crystal.h5\n",
      "done\n",
      "propagation lasted: 2.8 min\n"
     ]
    }
   ],
   "source": [
    "''' propagation '''\n",
    "name1_VCC = 'VCC_2.mono'\n",
    "name1_CC = 'CC_2.mono'\n",
    "fname_VCC1 = dirname_mono + 'wf_{}.h5'.format(name1_VCC)\n",
    "fname_CC1 = dirname_mono + 'wf_{}.h5'.format(name1_CC)\n",
    "\n",
    "# branch 1 (VCC)\n",
    "startTime = time.time(); tstamp = time.time()\n",
    "print('\\n\\n*** through VCC, t = {}s'.format(round(time.time()-startTime,2)))\n",
    "fname_VCC2 = dirname_spectrometer + 'wf_{}.h5'.format(name2_VCC)\n",
    "mwf_VCC2 = propagate_wavefront(fname_VCC1, BL_Crystal, fname_VCC2)\n",
    "fname_VCC3 = dirname_spectrometer + 'wf_{}.h5'.format(name3_VCC)\n",
    "mwf_VCC3 = propagate_wavefront(fname_VCC2, BL_Lens, fname_VCC3)\n",
    "print('propagation lasted: {} min'.format(round((time.time() - startTime) / 6.) / 10.))\n",
    "\n",
    "# branch 2 (CC)\n",
    "startTime = time.time(); tstamp = time.time()\n",
    "print('\\n\\n*** through CC, t = {}s'.format(round(time.time()-startTime,2)))\n",
    "fname_CC2 = dirname_spectrometer + 'wf_{}.h5'.format(name2_CC)\n",
    "mwf_CC2 = propagate_wavefront(fname_CC1, BL_Spectrometer, fname_CC2)\n",
    "fname_CC3 = dirname_spectrometer + 'wf_{}.h5'.format(name3_CC)\n",
    "mwf_CC3 = propagate_wavefront(fname_CC2, BL_Spectrometer, fname_CC3)\n",
    "print('propagation lasted: {} min'.format(round((time.time() - startTime) / 6.) / 10.))\n"
   ]
  },
  {
   "cell_type": "markdown",
   "metadata": {},
   "source": [
    "# Plots"
   ]
  },
  {
   "cell_type": "code",
   "execution_count": 15,
   "metadata": {},
   "outputs": [
    {
     "data": {
      "image/png": "[encoded data removed]",
      "text/plain": [
       "<Figure size 576x432 with 1 Axes>"
      ]
     },
     "metadata": {
      "needs_background": "light"
     },
     "output_type": "display_data"
    }
   ],
   "source": [
    "''' crystal '''\n",
    "# spectrum\n",
    "aw_VCC, axis_VCC, int_VCC = get_spectra(mwf_VCC2)\n",
    "aw_CC, axis_CC, int_CC = get_spectra(mwf_CC2)\n",
    "\n",
    "plt.figure(figsize=(8,6))\n",
    "plot_spectra(aw_VCC, axis_VCC, int_VCC, 'b', label=name2_VCC)\n",
    "plot_spectra(aw_VCC, axis_VCC, int_VCC, 'r', label=name2_CC)\n",
    "plt.savefig(dirname_spectrometer+'spectrum_crystal.png',transparent=True)\n"
   ]
  },
  {
   "cell_type": "code",
   "execution_count": null,
   "metadata": {},
   "outputs": [],
   "source": [
    "# temporal and spectral structure\n",
    "if_log = 0\n",
    "fov_y = fov_y\n",
    "fov_t = trange*1e15    # fs\n",
    "eStart = axis_CC[aw_CC.min()]\n",
    "eFin = axis_CC[aw_CC.max()]\n",
    "for dim in ['x','y']:\n",
    "    if dim == 'y': ori = 'V'\n",
    "    else: ori = 'H'\n",
    "\n",
    "    plt.figure(figsize=(8,6))\n",
    "    plot_tilt_from_wf(mwf_VCC2,label=name2_VCC,if_log=if_log, ori=ori)\n",
    "    plt.xlim([-fov_t/2,fov_t/2]); plt.ylim([-fov_y/2,fov_y/2])\n",
    "    plt.savefig(dirname_spectrometer+'tilt_{}_{}.png'.format(dim,name2_VCC),transparent=True)\n",
    "\n",
    "    plt.figure(figsize=(8,6))\n",
    "    plot_tilt_from_wf(mwf_CC2,label=name2_CC,if_log=if_log, ori=ori)\n",
    "    plt.xlim([-fov_t/2,fov_t/2]); plt.ylim([-fov_y/2,fov_y/2])\n",
    "    plt.savefig(dirname_spectrometer+'tilt_{}_{}.png'.format(dim,name2_CC),transparent=True)\n",
    "    \n",
    "    plt.figure(figsize=(8,6))\n",
    "    plot_tilt_freq_from_wf(mwf_VCC2,label=name2_VCC,if_log=0, ori=ori)\n",
    "    plt.xlim([eStart, eFin]); plt.ylim([-fov_y/2,fov_y/2])\n",
    "    plt.savefig(dirname_spectrometer+'spectrum_{}_{}.png'.format(dim,name2_VCC),transparent=True)\n",
    "    \n",
    "    plt.figure(figsize=(8,6))\n",
    "    plot_tilt_freq_from_wf(mwf_CC2,label=name2_CC,if_log=0, ori=ori)\n",
    "    plt.xlim([eStart, eFin]); plt.ylim([-fov_y/2,fov_y/2])\n",
    "    plt.savefig(dirname_spectrometer+'spectrum_{}_{}.png'.format(dim,name2_CC),transparent=True)\n"
   ]
  },
  {
   "cell_type": "code",
   "execution_count": null,
   "metadata": {},
   "outputs": [],
   "source": [
    "# profile\n",
    "if_log = 0\n",
    "fov = fov_y\n",
    "fig = plt.figure(figsize=(8,6))\n",
    "ax1 = fig.add_subplot(111)\n",
    "plot_spatial_from_wf(mwf_VCC2, label=name2_VCC, if_log=if_log)\n",
    "plt.xlim([-fov/2,fov/2]); plt.ylim([-fov/2,fov/2])\n",
    "ax1.set_aspect('equal')\n",
    "plt.savefig(dirname_spectrometer+'profile_{}.png'.format(name2_VCC),transparent=True)\n",
    "\n",
    "fig = plt.figure(figsize=(8,6))\n",
    "ax1 = fig.add_subplot(111)\n",
    "plot_spatial_from_wf(mwf_CC2, label=name2_CC, if_log=if_log)\n",
    "plt.xlim([-fov/2,fov/2]); plt.ylim([-fov/2,fov/2])\n",
    "ax1.set_aspect('equal')\n",
    "plt.savefig(dirname_spectrometer+'profile_{}.png'.format(name2_CC),transparent=True)\n"
   ]
  },
  {
   "cell_type": "code",
   "execution_count": null,
   "metadata": {},
   "outputs": [],
   "source": [
    "''' lens '''\n",
    "# spectrum\n",
    "aw_VCC, axis_VCC, int_VCC = get_spectra(mwf_VCC3)\n",
    "aw_CC, axis_CC, int_CC = get_spectra(mwf_CC3)\n",
    "\n",
    "plt.figure(figsize=(8,6))\n",
    "plot_spectra(aw_VCC, axis_VCC, int_VCC, 'b', label=name3_VCC)\n",
    "plot_spectra(aw_VCC, axis_VCC, int_VCC, 'r', label=name3_CC)\n",
    "plt.savefig(dirname_spectrometer+'spectrum_focus.png',transparent=True)\n"
   ]
  },
  {
   "cell_type": "code",
   "execution_count": null,
   "metadata": {},
   "outputs": [],
   "source": [
    "# temporal and spectral structure\n",
    "if_log = 0\n",
    "fov_y = fov_y\n",
    "fov_t = trange*1e15    # fs\n",
    "eStart = axis_CC[aw_CC.min()]\n",
    "eFin = axis_CC[aw_CC.max()]\n",
    "for dim in ['x','y']:\n",
    "    if dim == 'y': ori = 'V'\n",
    "    else: ori = 'H'\n",
    "\n",
    "    plt.figure(figsize=(8,6))\n",
    "    plot_tilt_from_wf(mwf_VCC3,label=name3_VCC,if_log=if_log, ori=ori)\n",
    "    plt.xlim([-fov_t/2,fov_t/2]); plt.ylim([-fov_y/2,fov_y/2])\n",
    "    plt.savefig(dirname_spectrometer+'tilt_{}_{}.png'.format(dim,name3_VCC),transparent=True)\n",
    "\n",
    "    plt.figure(figsize=(8,6))\n",
    "    plot_tilt_from_wf(mwf_CC3,label=name3_CC,if_log=if_log, ori=ori)\n",
    "    plt.xlim([-fov_t/2,fov_t/2]); plt.ylim([-fov_y/2,fov_y/2])\n",
    "    plt.savefig(dirname_spectrometer+'tilt_{}_{}.png'.format(dim,name3_CC),transparent=True)\n",
    "    \n",
    "    plt.figure(figsize=(8,6))\n",
    "    plot_tilt_freq_from_wf(mwf_VCC3,label=name3_VCC,if_log=0, ori=ori)\n",
    "    plt.xlim([eStart, eFin]); plt.ylim([-fov_y/2,fov_y/2])\n",
    "    plt.savefig(dirname_spectrometer+'spectrum_{}_{}.png'.format(dim,name3_VCC),transparent=True)\n",
    "    \n",
    "    plt.figure(figsize=(8,6))\n",
    "    plot_tilt_freq_from_wf(mwf_CC3,label=name3_CC,if_log=0, ori=ori)\n",
    "    plt.xlim([eStart, eFin]); plt.ylim([-fov_y/2,fov_y/2])\n",
    "    plt.savefig(dirname_spectrometer+'spectrum_{}_{}.png'.format(dim,name3_CC),transparent=True)\n"
   ]
  },
  {
   "cell_type": "code",
   "execution_count": null,
   "metadata": {},
   "outputs": [],
   "source": [
    "# profile\n",
    "if_log = 0\n",
    "fov = fov_y\n",
    "fig = plt.figure(figsize=(8,6))\n",
    "ax1 = fig.add_subplot(111)\n",
    "plot_spatial_from_wf(mwf_VCC3, label=name3_VCC, if_log=if_log)\n",
    "plt.xlim([-fov/2,fov/2]); plt.ylim([-fov/2,fov/2])\n",
    "ax1.set_aspect('equal')\n",
    "plt.savefig(dirname_spectrometer+'profile_{}.png'.format(name3_VCC),transparent=True)\n",
    "\n",
    "fig = plt.figure(figsize=(8,6))\n",
    "ax1 = fig.add_subplot(111)\n",
    "plot_spatial_from_wf(mwf_CC3, label=name3_CC, if_log=if_log)\n",
    "plt.xlim([-fov/2,fov/2]); plt.ylim([-fov/2,fov/2])\n",
    "ax1.set_aspect('equal')\n",
    "plt.savefig(dirname_spectrometer+'profile_{}.png'.format(name3_CC),transparent=True)\n"
   ]
  },
  {
   "cell_type": "code",
   "execution_count": 12,
   "metadata": {},
   "outputs": [],
   "source": [
    "''' sum '''\n",
    "E_real_VCC, E_img_VCC = interp_wf(mwf_VCC3, mwf_CC3)\n",
    "x_CC, y_CC, E_real_CC, E_img_CC = get_field(mwf_CC3)\n",
    "\n",
    "img = np.square(np.abs(E_real_VCC+E_real_CC + 1j*(E_img_VCC+E_img_CC)))"
   ]
  },
  {
   "cell_type": "code",
   "execution_count": 13,
   "metadata": {},
   "outputs": [
    {
     "data": {
      "image/png": "[encoded data removed]",
      "text/plain": [
       "<Figure size 576x432 with 2 Axes>"
      ]
     },
     "metadata": {
      "needs_background": "light"
     },
     "output_type": "display_data"
    }
   ],
   "source": [
    "fov = fov_y\n",
    "fig = plt.figure(figsize=(8,6))\n",
    "ax1 = fig.add_subplot(111)\n",
    "plot_spatial(x_CC, y_CC, E_real_VCC+E_real_CC, E_img_VCC+E_img_CC, label='Sum', if_log=0)\n",
    "plt.xlim([-fov/2,fov/2]); plt.ylim([-fov/2,fov/2])\n",
    "ax1.set_aspect('equal')\n",
    "plt.savefig(dirname_spectrometer+'profile_Sum.png', transparent=True)"
   ]
  },
  {
   "cell_type": "code",
   "execution_count": 14,
   "metadata": {},
   "outputs": [],
   "source": [
    "import winsound\n",
    "winsound.PlaySound(\"*\", winsound.SND_ALIAS)\n",
    "winsound.PlaySound(\"*\", winsound.SND_ALIAS)\n",
    "winsound.PlaySound(\"*\", winsound.SND_ALIAS)"
   ]
  }
 ],
 "metadata": {
  "kernelspec": {
   "display_name": "Python 3",
   "language": "python",
   "name": "python3"
  },
  "language_info": {
   "codemirror_mode": {
    "name": "ipython",
    "version": 3
   },
   "file_extension": ".py",
   "mimetype": "text/x-python",
   "name": "python",
   "nbconvert_exporter": "python",
   "pygments_lexer": "ipython3",
   "version": "3.6.10"
  }
 },
 "nbformat": 4,
 "nbformat_minor": 4
}
