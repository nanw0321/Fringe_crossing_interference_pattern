{
 "cells": [
  {
   "cell_type": "code",
   "execution_count": 1,
   "metadata": {},
   "outputs": [],
   "source": [
    "#%matplotlib notebook\n",
    "import time, winsound, h5py, os\n",
    "import numpy as np\n",
    "import matplotlib.pyplot as plt\n",
    "from lcls_beamline_toolbox.xraybeamline2d import beam1d as beam, optics1d as optics, beamline1d as beamline\n",
    "from tqdm import tqdm\n",
    "\n",
    "%load_ext autoreload\n",
    "%autoreload 2\n",
    "from Functions import *\n",
    "from LCLS_Optics import *"
   ]
  },
  {
   "cell_type": "code",
   "execution_count": 2,
   "metadata": {},
   "outputs": [],
   "source": [
    "N = 128       # number of sampling points\n",
    "E0 = 9.5e3    # photon energy in eV\n",
    "z_off=.12     # distance offset between VCC crystal 1 and CC crystal 1\n",
    "d23=.2        # distance between VCC crystal 2 and 3\n",
    "f_lens = 10.  # spectrometer lens focal distance\n",
    "FOV1 = 2e-3   # [m]\n",
    "FOV2 = 1e-3 # [m]\n",
    "alphaAsym = np.deg2rad(2)\n",
    "\n",
    "tau = 3\n",
    "window = 5000\n",
    "\n",
    "# parameter dictionary. z_source is in LCLS coordinates (20 meters upstream of undulator exit)\n",
    "beam_params = {\n",
    "    'photonEnergy': E0,\n",
    "    'N': N,\n",
    "    'sigma_x': 50e-6/(2*np.sqrt(2*np.log(2))),\n",
    "    'sigma_y': 50e-6/(2*np.sqrt(2*np.log(2))),\n",
    "    'rangeFactor': 5,\n",
    "    'scaleFactor': 10,\n",
    "    'z_source': 0\n",
    "}"
   ]
  },
  {
   "cell_type": "code",
   "execution_count": 3,
   "metadata": {},
   "outputs": [
    {
     "name": "stdout",
     "output_type": "stream",
     "text": [
      "b 2.40\n"
     ]
    }
   ],
   "source": [
    "# crystal stretching calculation\n",
    "test_crystal = optics.Crystal('c_test', hkl=[1,1,1], length=10e-2, width=10e-3, z=0, E0=E0,\n",
    "                              alphaAsym=np.deg2rad(5), orientation=2, pol='p', asym_type='emergence')\n"
   ]
  },
  {
   "cell_type": "code",
   "execution_count": 4,
   "metadata": {},
   "outputs": [],
   "source": [
    "''' define beamline '''\n",
    "def define_branch_VCC(E0=9000, z_off=.12, d23=.2, alphaAsym=np.deg2rad(5), f_lens=10., FOV1 = 1e-3, FOV2 = 100e-6, N = 1024):\n",
    "    # crystal reflection hkl index\n",
    "    hkl = [2,2,0]\n",
    "\n",
    "    # viewing point upstream of monochromator\n",
    "    im0 = optics.PPM('im0', z=400-.01, FOV=FOV1, N=N)\n",
    "\n",
    "    slit = optics.Slit('s0', x_width=1., y_width=100e-3, dx=0, dy=-50e-3, z=400)\n",
    "    \n",
    "    # first crystal: symmetric reflection\n",
    "    crystal1 = optics.Crystal('c1', hkl=hkl, length=10e-2, width=20e-3, z=400+z_off, E0=E0,\n",
    "                              alphaAsym=0, orientation=2, pol='s', delta=0.e-6)\n",
    "    \n",
    "    # second crystal: asymmetric reflection, orientation flipped relative to crystal 1\n",
    "    z12 = np.cos(2*crystal1.beta0)*0.02\n",
    "    crystal2 = optics.Crystal('c2', hkl=hkl, length=10e-2, width=20e-3, z=crystal1.z+z12, E0=E0,\n",
    "                              alphaAsym=alphaAsym, orientation=0, pol='s', delta=0.e-6)\n",
    "    \n",
    "    # printing crystal incidence and reflection angles for confirmation\n",
    "    print('crystal 2 incidence angle: {:.2f} degrees'.format(crystal2.alpha*180/np.pi))\n",
    "    print('crystal 2 exit angle: {:.2f} degrees'.format(crystal2.beta0*180/np.pi))\n",
    "\n",
    "    im1 = optics.PPM('im1', z=crystal2.z+d23/2, FOV=FOV1, N=N)\n",
    "\n",
    "    # third crystal, symmetric reflection, same orientation as crystal2\n",
    "    z23 = d23\n",
    "    crystal3 = optics.Crystal('c3', hkl=hkl, length=10e-2, width=10e-3, z=crystal2.z+z23, E0=E0,\n",
    "                              alphaAsym=-alphaAsym, orientation=0, pol='s', asym_type='emergence')\n",
    "\n",
    "    # fourth crystal, asymmetric reflection, same orientation as crystal1\n",
    "    z34 = z12\n",
    "    crystal4 = optics.Crystal('c4', hkl=hkl, length=10e-2, width=10e-3, z=crystal3.z+z34, E0=E0,\n",
    "                              alphaAsym=0, orientation=2, pol='s', asym_type='emergence')\n",
    "\n",
    "    # viewing point just downstream of monochromator\n",
    "    im2 = optics.PPM('im2', z=crystal4.z+z_off+.01, FOV=FOV1, N=N)\n",
    "    \n",
    "    # spectrometer crystal\n",
    "    crystal5 = optics.Crystal('c5', hkl=[1,1,1], length=10e-2, width=10e-3, z=im2.z+.01, E0=E0,\n",
    "                              alphaAsym=np.deg2rad(5), orientation=1, pol='s', asym_type='emergence')\n",
    "    \n",
    "    # viewing point just after spectrometer crystal\n",
    "    im3 = optics.PPM('im3', z=crystal5.z+.01, FOV=FOV2, N=N)\n",
    "    \n",
    "    # spectrometer lens\n",
    "    z56 = np.cos(2*crystal5.beta0)*0.02\n",
    "    crl1 = optics.CRL('crl1', z=crystal5.z+z56, E0=E0, f=f_lens, diameter=5e-3, orientation=1)\n",
    "    \n",
    "    # viewing point after spectrometer\n",
    "    im4 = optics.PPM('im4', z=crl1.z+f_lens, FOV=FOV2, N=N)\n",
    "    \n",
    "    # list of devices to propagate through\n",
    "    devices = [im0, crystal1, crystal2, im1, crystal3, crystal4, im2,\n",
    "               crystal5, im3, crl1, im4]\n",
    "\n",
    "    return devices\n",
    "\n",
    "def define_branch_CC(E0=9000, d23 = .2, alphaAsym=np.deg2rad(0), f_lens=10., FOV1 = 1e-3, FOV2 = 100e-6, N = 1024):\n",
    "    # crystal reflection hkl index\n",
    "    hkl = [2,2,0]\n",
    "\n",
    "    # viewing point upstream of monochromator\n",
    "    im0 = optics.PPM('im0', z=400-.01, FOV = FOV1, N=N)\n",
    "    \n",
    "    slit = optics.Slit('s0', x_width=1., y_width=100e-3, dx=0, dy=50e-3, z=400)\n",
    "\n",
    "    # first crystal: symmetric reflection\n",
    "    crystal1 = optics.Crystal('c1', hkl=hkl, length=10e-2, width=20e-3, z=400, E0=E0,\n",
    "                              alphaAsym=0, orientation=0, pol='s', delta=0.e-6)\n",
    "    \n",
    "    # second crystal: symmetric reflection, orientation flipped relative to crystal 1\n",
    "    z12 = np.cos(2*crystal1.beta0)*0.02\n",
    "    crystal2 = optics.Crystal('c2', hkl=hkl, length=10e-2, width=20e-3, z=crystal1.z+z12, E0=E0,\n",
    "                              alphaAsym=alphaAsym, orientation=2, pol='s', delta=0.e-6)\n",
    "    \n",
    "    # printing crystal incidence and reflection angles for confirmation\n",
    "    print('crystal 2 incidence angle: {:.2f} degrees'.format(crystal2.alpha*180/np.pi))\n",
    "    print('crystal 2 exit angle: {:.2f} degrees'.format(crystal2.beta0*180/np.pi))\n",
    "\n",
    "    im1 = optics.PPM('im1', z=crystal2.z+d23/2+z_off, FOV=FOV1, N=N)\n",
    "\n",
    "    # third crystal, symmetric reflection, same orientation as crystal2\n",
    "    z23 = d23 + 2*z_off\n",
    "    crystal3 = optics.Crystal('c3', hkl=hkl, length=10e-2, width=10e-3, z=crystal2.z+z23, E0=E0,\n",
    "                              alphaAsym=-alphaAsym, orientation=2, pol='s', asym_type='emergence')\n",
    "\n",
    "    # fourth crystal, symmetric reflection, same orientation as crystal1\n",
    "    z34 = z12\n",
    "    crystal4 = optics.Crystal('c4', hkl=hkl, length=10e-2, width=10e-3, z=crystal3.z+z34, E0=E0,\n",
    "                              alphaAsym=0, orientation=0, pol='s', asym_type='emergence')\n",
    "    \n",
    "    # viewing point just downstream of monochromator\n",
    "    im2 = optics.PPM('im2', z=crystal4.z+.01, FOV=FOV1, N=N)\n",
    "    \n",
    "    # spectrometer crystal\n",
    "    crystal5 = optics.Crystal('c5', hkl=[1,1,1], length=10e-2, width=10e-3, z=im2.z+.01, E0=E0,\n",
    "                              alphaAsym=np.deg2rad(5), orientation=1, pol='s', asym_type='emergence')\n",
    "    \n",
    "    # viewing point just after spectrometer crystal\n",
    "    im3 = optics.PPM('im3', z=crystal5.z+.01, FOV=FOV2, N=N)\n",
    "    \n",
    "    # spectrometer lens\n",
    "    z56 = np.cos(2*crystal5.beta0)*0.02\n",
    "    crl1 = optics.CRL('crl1', z=crystal5.z+z56, E0=E0, f=f_lens, diameter=5e-3, orientation=1)\n",
    "    \n",
    "    # viewing point after spectrometer\n",
    "    im4 = optics.PPM('im4', z=crl1.z+f_lens, FOV=FOV2, N=N)\n",
    "    \n",
    "    # list of devices to propagate through\n",
    "    devices = [im0, crystal1, crystal2, im1, crystal3, crystal4, im2,\n",
    "               crystal5, im3, crl1, im4]\n",
    "\n",
    "    return devices\n"
   ]
  },
  {
   "cell_type": "markdown",
   "metadata": {},
   "source": [
    "### Beamline components:\n",
    "\n",
    "Crystal orientation:\n",
    "    0: beam turns to +x\n",
    "    1: beam turns to +y\n",
    "VCC:\n",
    "    C1-4 (H, mono), im2, C5 (V, spectrometer), im3, lens (V, spectrometer), im4 (focus)\n",
    "    \n",
    "CC:\n",
    "    C1-4 (H, mono), im2, C5 (V, spectrometer), im3, lens (V, spectrometer), im4 (focus)"
   ]
  },
  {
   "cell_type": "code",
   "execution_count": 5,
   "metadata": {},
   "outputs": [
    {
     "name": "stdout",
     "output_type": "stream",
     "text": [
      "b 1.00\n",
      "b 1.21\n",
      "crystal 2 incidence angle: 21.87 degrees\n",
      "crystal 2 exit angle: 17.87 degrees\n",
      "b 0.82\n",
      "b 1.00\n",
      "b 2.40\n",
      "after c1: -0.6936\n",
      "after c2: 0.0000\n",
      "after c3: 0.6936\n",
      "after c4: 0.0000\n",
      "after c5: 0.4194\n",
      "VCC crystal 4 incidence angle: 19.87 degrees\n",
      "VCC crystal 4 exit angle: 19.87 degrees\n",
      "\n",
      "\n",
      "\n",
      "b 1.00\n",
      "b 1.00\n",
      "crystal 2 incidence angle: 19.87 degrees\n",
      "crystal 2 exit angle: 19.87 degrees\n",
      "b 1.00\n",
      "b 1.00\n",
      "b 2.40\n",
      "after c1: 0.6936\n",
      "after c2: 0.0000\n",
      "after c3: -0.6936\n",
      "after c4: 0.0000\n",
      "after c5: 0.4194\n",
      "CC crystal 4 incidence angle: 19.87 degrees\n",
      "CC crystal 4 exit angle: 19.87 degrees\n",
      "\n",
      "\n",
      "\n"
     ]
    }
   ],
   "source": [
    "# initialize optical elements\n",
    "devices_VCC = define_branch_VCC(E0=E0, z_off=z_off, d23=d23, alphaAsym=alphaAsym, f_lens=f_lens, FOV1=FOV1, FOV2=FOV2, N=N)\n",
    "branch_VCC = beamline.Beamline(devices_VCC)\n",
    "for oe in devices_VCC:\n",
    "    if oe.name == 'c4':\n",
    "        print('VCC crystal 4 incidence angle: {:.2f} degrees'.format(oe.alpha*180/np.pi))\n",
    "        print('VCC crystal 4 exit angle: {:.2f} degrees\\n\\n\\n'.format(oe.beta0*180/np.pi))\n",
    "        \n",
    "devices_CC = define_branch_CC(E0=E0, d23=d23, f_lens=f_lens, FOV1=FOV1, FOV2=FOV2, N=N)\n",
    "branch_CC = beamline.Beamline(devices_CC)\n",
    "for oe in devices_CC:\n",
    "    if oe.name == 'c4':\n",
    "        print('CC crystal 4 incidence angle: {:.2f} degrees'.format(oe.alpha*180/np.pi))\n",
    "        print('CC crystal 4 exit angle: {:.2f} degrees\\n\\n\\n'.format(oe.beta0*180/np.pi))\n"
   ]
  },
  {
   "cell_type": "code",
   "execution_count": 6,
   "metadata": {},
   "outputs": [
    {
     "name": "stdout",
     "output_type": "stream",
     "text": [
      "im0 399.99\n",
      "c1 400.12\n",
      "c2 400.135379455926\n",
      "im1 400.235379455926\n",
      "c3 400.335379455926\n",
      "c4 400.350758911852\n",
      "im2 400.480758911852\n",
      "c5 400.49075891185197\n",
      "im3 400.50075891185196\n",
      "crl1 400.5101622370794\n",
      "im4 410.5101622370794\n"
     ]
    }
   ],
   "source": [
    "for device in devices_VCC:\n",
    "    print(device.name, device.z)"
   ]
  },
  {
   "cell_type": "raw",
   "metadata": {},
   "source": [
    "%%capture capt\n",
    "''' time window sampling check '''\n",
    "beam_params['photonEnergy'] = E0\n",
    "pulse_VCC = beam.Pulse(beam_params=beam_params, tau=tau, time_window=window)\n",
    "pulse_VCC.propagate(beamline=branch_VCC, screen_names=['im0', 'im1', 'im2'])\n"
   ]
  },
  {
   "cell_type": "raw",
   "metadata": {},
   "source": [
    "pulse_VCC.imshow_projection('im0')\n",
    "pulse_VCC.imshow_projection('im1')\n",
    "pulse_VCC.imshow_projection('im2')\n",
    "pulse_VCC.imshow_time_slice('im0')\n",
    "pulse_VCC.imshow_time_slice('im1')\n",
    "pulse_VCC.imshow_time_slice('im2')"
   ]
  },
  {
   "cell_type": "code",
   "execution_count": 7,
   "metadata": {},
   "outputs": [],
   "source": [
    "%%capture capt\n",
    "tstart = time.time()\n",
    "# propagate\n",
    "beam_params['photonEnergy'] = E0\n",
    "pulse_VCC = beam.Pulse(beam_params=beam_params, tau=tau, time_window=window)\n",
    "pulse_CC = beam.Pulse(beam_params=beam_params, tau=tau, time_window=window)\n",
    "pulse_VCC.propagate(beamline=branch_VCC, screen_names=['im2','im3','im4'])\n",
    "pulse_CC.propagate(beamline=branch_CC, screen_names=['im2','im3','im4'])\n",
    "tfin = time.time()"
   ]
  },
  {
   "cell_type": "code",
   "execution_count": 8,
   "metadata": {},
   "outputs": [
    {
     "name": "stdout",
     "output_type": "stream",
     "text": [
      "path exists\n",
      "path exists\n",
      "path exists\n",
      "propagation lasted 465.45s\n"
     ]
    }
   ],
   "source": [
    "path = 'LCLS_output/'\n",
    "make_dir(path)\n",
    "\n",
    "case_path = path+'hor/'\n",
    "make_dir(case_path)\n",
    "\n",
    "fig_path = case_path+'{} fs/'.format(tau)\n",
    "make_dir(fig_path)\n",
    "\n",
    "print('propagation lasted {}s'.format(round(tfin-tstart,2)))"
   ]
  },
  {
   "cell_type": "code",
   "execution_count": 9,
   "metadata": {
    "scrolled": false
   },
   "outputs": [],
   "source": [
    "''' beam profiles '''\n",
    "im_names = ['im2', 'im3', 'im4']\n",
    "part_names = ['1.mono', '2.C5', '3.lens']\n",
    "\n",
    "for i in range(len(im_names)):\n",
    "    im_name = im_names[i]\n",
    "    part_name = part_names[i]\n",
    "    \n",
    "    # spatial projection (xy)\n",
    "    pulse_VCC.imshow_projection(im_name)\n",
    "    plt.savefig(fig_path+'profile_VCC_{}.png'.format(part_name))\n",
    "    pulse_CC.imshow_projection(im_name)\n",
    "    plt.savefig(fig_path+'profile_CC_{}.png'.format(part_name))\n",
    "    plt.close('all')\n",
    "    # time and energy component slice (x/y vs t/E)\n",
    "    for dim in ['x','y']:\n",
    "        pulse_VCC.imshow_time_slice(im_name, dim=dim)\n",
    "        plt.savefig(fig_path+'tilt_{}_VCC_{}.png'.format(dim,part_name))\n",
    "        pulse_CC.imshow_time_slice(im_name, dim=dim)\n",
    "        plt.savefig(fig_path+'tilt_{}_CC_{}.png'.format(dim,part_name))\n",
    "        plt.close('all')\n",
    "        pulse_VCC.imshow_energy_slice(im_name, dim=dim)\n",
    "        plt.savefig(fig_path+'spectrum_{}_VCC_{}.png'.format(dim, part_name))\n",
    "        pulse_CC.imshow_energy_slice(im_name, dim=dim)\n",
    "        plt.savefig(fig_path+'spectrum_{}_CC_{}.png'.format(dim, part_name))\n",
    "        plt.close('all')"
   ]
  },
  {
   "cell_type": "code",
   "execution_count": null,
   "metadata": {
    "scrolled": false
   },
   "outputs": [
    {
     "name": "stderr",
     "output_type": "stream",
     "text": [
      " 20%|████████████████████████                                                                                                | 1/5 [03:29<13:56, 209.10s/it]"
     ]
    }
   ],
   "source": [
    "''' crossing '''\n",
    "offsets = np.linspace(-2,2,5)*10\n",
    "\n",
    "for offset in tqdm(offsets):\n",
    "    im_name = im_names[-1]\n",
    "    part_name = part_names[-1]+'_{}fs_offset'.format(offset)\n",
    "    \n",
    "    # add branches\n",
    "    t_shift = find_shift(pulse_VCC, pulse_CC, im_name)+offset\n",
    "    pulse_sum = pulse_VCC.add_pulse(pulse_CC, t_shift)\n",
    "    \n",
    "    # spatial projection (xy)\n",
    "    pulse_sum.imshow_projection(im_name)\n",
    "    plt.savefig(fig_path+'profile_Sum_{}.png'.format(part_name))\n",
    "    plt.close('all')\n",
    "    # time and energy component slice (x/y vs t/E)\n",
    "    for dim in ['x','y']:\n",
    "        pulse_sum.imshow_time_slice(im_name, dim=dim)\n",
    "        plt.savefig(fig_path+'tilt_{}_Sum_{}.png'.format(dim,part_name))\n",
    "        pulse_sum.imshow_energy_slice(im_name, dim=dim)\n",
    "        plt.savefig(fig_path+'spectrum_{}_Sum_{}.png'.format(dim, part_name))\n",
    "        plt.close('all')"
   ]
  },
  {
   "cell_type": "code",
   "execution_count": null,
   "metadata": {},
   "outputs": [],
   "source": [
    "import winsound\n",
    "winsound.PlaySound(\"*\", winsound.SND_ALIAS)\n",
    "winsound.PlaySound(\"*\", winsound.SND_ALIAS)\n",
    "winsound.PlaySound(\"*\", winsound.SND_ALIAS)"
   ]
  },
  {
   "cell_type": "code",
   "execution_count": null,
   "metadata": {},
   "outputs": [],
   "source": [
    "# vertically go through an asymmetric crystal, b>1; then add a crl lens so both branches go through a spectrometer, plot spectrum (E vs t) to see if they overlap.\n",
    "# if not, add a prism in one branch so that the spectrums overlaps. once overlapped, add both branches together.\n",
    "# can make a branch tilt more so that not fringe everywhere.\n",
    "\n",
    "# 1. no energy chirp (straight fringe)\n",
    "# 2. only energy chirp (tilting fringe)\n",
    "\n",
    "# the above two for proposal, see their difference\n",
    "\n",
    "# 3. energy and spatial chirp ()"
   ]
  },
  {
   "cell_type": "code",
   "execution_count": null,
   "metadata": {},
   "outputs": [],
   "source": [
    "### todo\n",
    "\n",
    "# move im4 1 or 2 Rayleigh ranges before and after focal plane to see if sensitive.\n",
    "# add small prism in one branch before lens (to change difference in divergence to curvature)"
   ]
  }
 ],
 "metadata": {
  "kernelspec": {
   "display_name": "Python 3",
   "language": "python",
   "name": "python3"
  },
  "language_info": {
   "codemirror_mode": {
    "name": "ipython",
    "version": 3
   },
   "file_extension": ".py",
   "mimetype": "text/x-python",
   "name": "python",
   "nbconvert_exporter": "python",
   "pygments_lexer": "ipython3",
   "version": "3.7.6"
  }
 },
 "nbformat": 4,
 "nbformat_minor": 4
}
