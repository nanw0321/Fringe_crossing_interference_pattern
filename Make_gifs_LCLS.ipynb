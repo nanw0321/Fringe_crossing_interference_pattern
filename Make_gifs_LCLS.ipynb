{
 "cells": [
  {
   "cell_type": "code",
   "execution_count": 1,
   "metadata": {},
   "outputs": [],
   "source": [
    "import numpy as np\n",
    "import imageio, os"
   ]
  },
  {
   "cell_type": "code",
   "execution_count": 9,
   "metadata": {},
   "outputs": [],
   "source": [
    "''' effect of time offset, spectrometer '''\n",
    "tau = 3\n",
    "fig_path = 'LCLS_output/hor/{} fs/'.format(tau)\n",
    "offsets = np.linspace(-2,2,5)*10\n",
    "\n",
    "fig_types = ['profile','tilt_x','tilt_y','spectrum_x','spectrum_y']\n",
    "err = 0\n",
    "for fig_type in fig_types:\n",
    "    # get names\n",
    "    filenames = []\n",
    "    for offset in offsets:\n",
    "        fig_name = fig_path+fig_type+'_Sum_3.lens_{}fs_offset.png'.format(offset)\n",
    "        if os.path.exists(fig_name):\n",
    "            filenames.append(fig_name)\n",
    "    # make gif\n",
    "    images = []\n",
    "    for filename in filenames:\n",
    "        images.append(imageio.imread(filename))\n",
    "    imageio.mimsave(fig_path+fig_type+'_Sum_3.lens_all.gif', images, duration=1)"
   ]
  },
  {
   "cell_type": "code",
   "execution_count": 3,
   "metadata": {},
   "outputs": [],
   "source": [
    "''' effect of time offset, ray-tracing '''\n",
    "tau = 3\n",
    "fig_path = 'LCLS_output/ray_tracing/{} fs/'.format(tau)\n",
    "offsets = np.linspace(-2,2,5)*10\n",
    "\n",
    "fig_types = ['profile','tilt_x','tilt_y','spectrum_x','spectrum_y']\n",
    "err = 0\n",
    "for fig_type in fig_types:\n",
    "    # get names\n",
    "    filenames = []\n",
    "    for offset in offsets:\n",
    "        fig_name = fig_path+fig_type+'_Sum_3.crossing_{}fs_offset.png'.format(offset)\n",
    "        if os.path.exists(fig_name):\n",
    "            filenames.append(fig_name)\n",
    "    # make gif\n",
    "    images = []\n",
    "    for filename in filenames:\n",
    "        images.append(imageio.imread(filename))\n",
    "    imageio.mimsave(fig_path+fig_type+'_Sum_3.lens_all.gif', images, duration=1)"
   ]
  }
 ],
 "metadata": {
  "kernelspec": {
   "display_name": "Python 3",
   "language": "python",
   "name": "python3"
  },
  "language_info": {
   "codemirror_mode": {
    "name": "ipython",
    "version": 3
   },
   "file_extension": ".py",
   "mimetype": "text/x-python",
   "name": "python",
   "nbconvert_exporter": "python",
   "pygments_lexer": "ipython3",
   "version": "3.7.6"
  }
 },
 "nbformat": 4,
 "nbformat_minor": 4
}
